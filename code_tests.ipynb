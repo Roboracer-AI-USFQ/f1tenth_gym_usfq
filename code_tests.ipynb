{
 "cells": [
  {
   "cell_type": "markdown",
   "id": "7a54705c",
   "metadata": {},
   "source": [
    "# Encoder tests"
   ]
  },
  {
   "cell_type": "code",
   "execution_count": 1,
   "id": "d70ba9c2",
   "metadata": {},
   "outputs": [
    {
     "name": "stdout",
     "output_type": "stream",
     "text": [
      "Example shape: torch.Size([10, 4, 1080])\n",
      "Input shape: torch.Size([4, 1080])\n",
      "Input channel: 1080\n",
      "Output channel: 512\n",
      "Input channel: 512\n",
      "Output channel: 256\n",
      "Input channel: 256\n",
      "Output channel: 128\n",
      "Input channel: 128\n",
      "Output channel: 64\n",
      "Sequential(\n",
      "  (0): Conv1d(1080, 512, kernel_size=(3,), stride=(1,), padding=(1,))\n",
      "  (1): ReLU()\n",
      "  (2): Conv1d(512, 256, kernel_size=(3,), stride=(1,), padding=(1,))\n",
      "  (3): ReLU()\n",
      "  (4): Conv1d(256, 128, kernel_size=(3,), stride=(1,), padding=(1,))\n",
      "  (5): ReLU()\n",
      "  (6): Conv1d(128, 64, kernel_size=(3,), stride=(1,), padding=(1,))\n",
      "  (7): ReLU()\n",
      "  (8): Conv1d(64, 32, kernel_size=(4,), stride=(1,))\n",
      "  (9): ReLU()\n",
      ")\n",
      "Input shape: torch.Size([10, 4, 1080])\n",
      "Output data\n",
      "tensor([[0.0000, 0.0217, 0.0555, 0.0649, 0.0000, 0.0406, 0.0000, 0.0000, 0.0000,\n",
      "         0.0000, 0.0000, 0.0000, 0.0000, 0.0263, 0.0000, 0.0400, 0.0000, 0.0000,\n",
      "         0.0255, 0.0352, 0.0000, 0.0357, 0.0000, 0.0000, 0.0127, 0.0000, 0.0483,\n",
      "         0.0026, 0.0389, 0.0000, 0.0808, 0.0639],\n",
      "        [0.0000, 0.0153, 0.0608, 0.0641, 0.0000, 0.0434, 0.0000, 0.0000, 0.0000,\n",
      "         0.0000, 0.0000, 0.0000, 0.0000, 0.0214, 0.0022, 0.0371, 0.0000, 0.0000,\n",
      "         0.0187, 0.0419, 0.0000, 0.0338, 0.0000, 0.0000, 0.0169, 0.0000, 0.0437,\n",
      "         0.0078, 0.0340, 0.0000, 0.0721, 0.0734],\n",
      "        [0.0000, 0.0205, 0.0565, 0.0726, 0.0000, 0.0291, 0.0000, 0.0000, 0.0000,\n",
      "         0.0000, 0.0000, 0.0000, 0.0000, 0.0238, 0.0000, 0.0568, 0.0000, 0.0000,\n",
      "         0.0276, 0.0163, 0.0000, 0.0148, 0.0000, 0.0000, 0.0079, 0.0000, 0.0503,\n",
      "         0.0000, 0.0315, 0.0000, 0.0743, 0.0704],\n",
      "        [0.0000, 0.0098, 0.0479, 0.0730, 0.0000, 0.0488, 0.0000, 0.0000, 0.0000,\n",
      "         0.0000, 0.0000, 0.0000, 0.0000, 0.0277, 0.0000, 0.0482, 0.0000, 0.0000,\n",
      "         0.0018, 0.0327, 0.0000, 0.0216, 0.0000, 0.0000, 0.0134, 0.0000, 0.0488,\n",
      "         0.0000, 0.0393, 0.0000, 0.0763, 0.0613],\n",
      "        [0.0000, 0.0146, 0.0426, 0.0613, 0.0000, 0.0449, 0.0000, 0.0000, 0.0000,\n",
      "         0.0000, 0.0000, 0.0000, 0.0000, 0.0320, 0.0000, 0.0372, 0.0000, 0.0000,\n",
      "         0.0185, 0.0280, 0.0000, 0.0085, 0.0000, 0.0000, 0.0190, 0.0000, 0.0547,\n",
      "         0.0017, 0.0414, 0.0000, 0.0756, 0.0529],\n",
      "        [0.0000, 0.0101, 0.0613, 0.0624, 0.0000, 0.0314, 0.0000, 0.0000, 0.0000,\n",
      "         0.0000, 0.0000, 0.0000, 0.0000, 0.0319, 0.0000, 0.0412, 0.0000, 0.0000,\n",
      "         0.0180, 0.0445, 0.0000, 0.0246, 0.0000, 0.0000, 0.0094, 0.0000, 0.0450,\n",
      "         0.0076, 0.0385, 0.0000, 0.0793, 0.0575],\n",
      "        [0.0000, 0.0141, 0.0565, 0.0720, 0.0000, 0.0509, 0.0000, 0.0000, 0.0000,\n",
      "         0.0000, 0.0000, 0.0000, 0.0000, 0.0206, 0.0000, 0.0390, 0.0000, 0.0000,\n",
      "         0.0211, 0.0405, 0.0000, 0.0121, 0.0000, 0.0000, 0.0088, 0.0000, 0.0449,\n",
      "         0.0096, 0.0310, 0.0000, 0.0651, 0.0645],\n",
      "        [0.0000, 0.0157, 0.0565, 0.0594, 0.0000, 0.0448, 0.0000, 0.0000, 0.0000,\n",
      "         0.0000, 0.0000, 0.0000, 0.0000, 0.0263, 0.0000, 0.0423, 0.0000, 0.0000,\n",
      "         0.0288, 0.0445, 0.0000, 0.0088, 0.0000, 0.0000, 0.0215, 0.0000, 0.0587,\n",
      "         0.0077, 0.0453, 0.0000, 0.0740, 0.0507],\n",
      "        [0.0000, 0.0202, 0.0514, 0.0616, 0.0000, 0.0340, 0.0000, 0.0000, 0.0000,\n",
      "         0.0000, 0.0000, 0.0000, 0.0000, 0.0236, 0.0000, 0.0440, 0.0000, 0.0000,\n",
      "         0.0350, 0.0367, 0.0000, 0.0030, 0.0000, 0.0000, 0.0137, 0.0000, 0.0331,\n",
      "         0.0060, 0.0453, 0.0000, 0.0796, 0.0583],\n",
      "        [0.0000, 0.0111, 0.0554, 0.0453, 0.0000, 0.0476, 0.0000, 0.0000, 0.0000,\n",
      "         0.0000, 0.0000, 0.0000, 0.0000, 0.0322, 0.0046, 0.0344, 0.0000, 0.0000,\n",
      "         0.0207, 0.0551, 0.0000, 0.0146, 0.0009, 0.0000, 0.0133, 0.0000, 0.0527,\n",
      "         0.0003, 0.0375, 0.0000, 0.0650, 0.0641]], grad_fn=<SqueezeBackward1>)\n",
      "torch.Size([10, 32])\n",
      "Backpropagation complete. Gradients computed for my_enc parameters.\n"
     ]
    }
   ],
   "source": [
    "import torch\n",
    "from networks.encoders import CNNEncoder\n",
    "\n",
    "temporal_dim = 4\n",
    "lidar_dim = 1080\n",
    "example = torch.randn(10, temporal_dim, lidar_dim)\n",
    "\n",
    "print(\"Example shape:\", example.shape)\n",
    "\n",
    "my_enc = CNNEncoder(\n",
    "        example.shape[1:],  # input_dim excluding batch size  \n",
    "        num_layers=5,\n",
    "        hidden_size=[512, 256, 128, 64, 32],\n",
    "        history_length=example.shape[1],\n",
    "        dropout=0.0,)\n",
    "\n",
    "print(\"Input shape:\", example.shape)\n",
    "\n",
    "output = my_enc(example)  # Add batch dimension\n",
    "print(\"Output data\")\n",
    "print(output)\n",
    "print(output.shape)\n",
    "\n",
    "target = torch.randn(5, 32)\n",
    "loss_fn = torch.nn.MSELoss()\n",
    "loss = loss_fn(output[:5], target)\n",
    "loss.backward()\n",
    "print(\"Backpropagation complete. Gradients computed for my_enc parameters.\")"
   ]
  },
  {
   "cell_type": "markdown",
   "id": "a61541d0",
   "metadata": {},
   "source": [
    "# Separation of lidar and robot features"
   ]
  },
  {
   "cell_type": "code",
   "execution_count": 2,
   "id": "76b96ed5",
   "metadata": {},
   "outputs": [
    {
     "name": "stdout",
     "output_type": "stream",
     "text": [
      "Lidar shape: torch.Size([10, 4, 1080])\n",
      "Robot info shape: torch.Size([10, 4, 6])\n"
     ]
    }
   ],
   "source": [
    "temporal_dim = 4\n",
    "lidar_dim = 1086\n",
    "example = torch.randn(10, temporal_dim, lidar_dim)\n",
    "\n",
    "lidar = example[..., :1080]\n",
    "robot_info = example[..., -6:]\n",
    "\n",
    "print(\"Lidar shape:\", lidar.shape)\n",
    "print(\"Robot info shape:\", robot_info.shape)"
   ]
  }
 ],
 "metadata": {
  "kernelspec": {
   "display_name": "rl",
   "language": "python",
   "name": "python3"
  },
  "language_info": {
   "codemirror_mode": {
    "name": "ipython",
    "version": 3
   },
   "file_extension": ".py",
   "mimetype": "text/x-python",
   "name": "python",
   "nbconvert_exporter": "python",
   "pygments_lexer": "ipython3",
   "version": "3.10.16"
  }
 },
 "nbformat": 4,
 "nbformat_minor": 5
}
